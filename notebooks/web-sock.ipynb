{
 "cells": [
  {
   "cell_type": "code",
   "execution_count": 30,
   "id": "competitive-celtic",
   "metadata": {},
   "outputs": [
    {
     "name": "stdout",
     "output_type": "stream",
     "text": [
      "{\"type\": \"recognizer_loop:utterance\", \"data\": {\"lang\": \"en-us\", \"utterances\": [\"what's the weather\"]}, \"context\": {\"source\": \"chatbox\", \"client\": \"datacon\", \"destination\": [\"skills\"]}}\n",
      "192\n",
      "Received {\"type\": \"connected\", \"data\": {}, \"context\": {}}\n"
     ]
    }
   ],
   "source": [
    "import sys\n",
    "import websocket\n",
    "import json\n",
    "\n",
    "def on_message(ws, message):\n",
    "    print(message)\n",
    "\n",
    "def on_error(ws, error):\n",
    "    print(error)\n",
    "\n",
    "def on_close(ws):\n",
    "    print(\"### closed ###\")\n",
    "    \n",
    "    \n",
    "uri = 'ws://localhost:8181/core'\n",
    "ws = websocket.create_connection(uri)\n",
    "\n",
    "# ws = websocket.WebSocketApp(uri, on_message = on_message, on_error = on_error, on_close = on_close)\n",
    "# ws.run_forever()\n",
    "\n",
    "data = {\n",
    "    \"type\": \"recognizer_loop:utterance\",\n",
    "    \"data\": {\n",
    "        \"lang\":\"en-us\",\n",
    "        \"utterances\":[\"what's the weather\"]\n",
    "    },\n",
    "    \"context\": {\n",
    "        \"source\": \"debug_client\",\n",
    "        \"client\": \"datacon\",\n",
    "        \"destination\": [\"skills\"]\n",
    "    },\n",
    "}\n",
    "\n",
    "\n",
    "msg = json.dumps(data)\n",
    "print(msg)\n",
    "rec = ws.send(msg)\n",
    "print(rec)\n",
    "result = ws.recv()  \n",
    "print(\"Received\", result)\n",
    "ws.close()\n",
    "\n"
   ]
  },
  {
   "cell_type": "code",
   "execution_count": 24,
   "id": "living-state",
   "metadata": {},
   "outputs": [
    {
     "name": "stdout",
     "output_type": "stream",
     "text": [
      "{\"type\": \"recognizer_loop:utterance\", \"data\": {\"lang\": \"en-us\", \"utterances\": [\"what's the weather\"]}, \"context\": {\"source\": \"chatbox\", \"client\": \"datacon\", \"destination\": [\"skills\"]}}\n",
      "192\n",
      "Received {\"type\": \"connected\", \"data\": {}, \"context\": {}}\n"
     ]
    }
   ],
   "source": [
    "\n",
    "\n",
    "data = {\n",
    "    \"type\": \"recognizer_loop:utterance\",\n",
    "    \"data\": {\n",
    "        \"lang\":\"en-us\",\n",
    "        \"utterances\":[\"what's the weather\"]\n",
    "    },\n",
    "    \"context\": {\n",
    "        \"source\": \"chatbox\",\n",
    "        \"client\": \"datacon\",\n",
    "        \"destination\": [\"skills\"]\n",
    "    },\n",
    "}\n",
    "\n",
    "\n",
    "msg = json.dumps(data)\n",
    "print(msg)\n",
    "rec = ws.send(msg)\n",
    "print(rec)\n",
    "result = ws.recv()  \n",
    "print(\"Received\", result)\n",
    "ws.close()"
   ]
  },
  {
   "cell_type": "code",
   "execution_count": null,
   "id": "certified-vinyl",
   "metadata": {},
   "outputs": [],
   "source": []
  }
 ],
 "metadata": {
  "kernelspec": {
   "display_name": "Python 3",
   "language": "python",
   "name": "python3"
  },
  "language_info": {
   "codemirror_mode": {
    "name": "ipython",
    "version": 3
   },
   "file_extension": ".py",
   "mimetype": "text/x-python",
   "name": "python",
   "nbconvert_exporter": "python",
   "pygments_lexer": "ipython3",
   "version": "3.8.6"
  }
 },
 "nbformat": 4,
 "nbformat_minor": 5
}
