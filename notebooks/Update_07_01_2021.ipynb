{
 "cells": [
  {
   "cell_type": "code",
   "execution_count": 1,
   "metadata": {},
   "outputs": [
    {
     "name": "stderr",
     "output_type": "stream",
     "text": [
      "/Library/Frameworks/Python.framework/Versions/3.8/lib/python3.8/site-packages/fuzzywuzzy/fuzz.py:11: UserWarning: Using slow pure-python SequenceMatcher. Install python-Levenshtein to remove this warning\n",
      "  warnings.warn('Using slow pure-python SequenceMatcher. Install python-Levenshtein to remove this warning')\n"
     ]
    },
    {
     "name": "stdout",
     "output_type": "stream",
     "text": [
      "imports complete\n"
     ]
    }
   ],
   "source": [
    "import pandas as pd\n",
    "import numpy as np\n",
    "import matplotlib.pyplot as plt\n",
    "from school_data import schools\n",
    "print (\"imports complete\")"
   ]
  },
  {
   "cell_type": "code",
   "execution_count": 2,
   "metadata": {},
   "outputs": [],
   "source": [
    "##\n",
    "# load the school \"ELA  test\" data from the open api server\n",
    "# load the school \"MATH test\" data from the open api server\n",
    "# load the school \"   demo  \" data from the open api server\n",
    "\n",
    "#math_df = schools.load_math_tests()    #math_df.head()\n",
    "#ela_df  = schools.load_ela_tests()      #ela_df.head()\n",
    "demo_df = schools.load_demographics()  #demo_df.head()\n",
    "\n",
    "## combine the above dataframes\n",
    "#math_demo_df = schools.combine_test_data(demo_df, math_df, \"math\") #math_demo_df.head()\n",
    "#ela_demo_df  = schools.combine_test_data(demo_df, ela_df, \"ela\")   #ela_demo_df.head()"
   ]
  },
  {
   "cell_type": "code",
   "execution_count": 6,
   "metadata": {},
   "outputs": [
    {
     "ename": "NameError",
     "evalue": "name 'demo_df' is not defined",
     "output_type": "error",
     "traceback": [
      "\u001b[0;31m---------------------------------------------------------------------------\u001b[0m",
      "\u001b[0;31mNameError\u001b[0m                                 Traceback (most recent call last)",
      "\u001b[0;32m<ipython-input-6-c4aae1bb2c88>\u001b[0m in \u001b[0;36m<module>\u001b[0;34m\u001b[0m\n\u001b[0;32m----> 1\u001b[0;31m \u001b[0mdemo_df\u001b[0m\u001b[0;34m\u001b[0m\u001b[0;34m\u001b[0m\u001b[0m\n\u001b[0m",
      "\u001b[0;31mNameError\u001b[0m: name 'demo_df' is not defined"
     ]
    }
   ],
   "source": [
    "demo_df"
   ]
  },
  {
   "cell_type": "code",
   "execution_count": null,
   "metadata": {},
   "outputs": [],
   "source": [
    "#We consider those schools having a poverty indicator lesser than 0.3 and 0.5... \n",
    "whealth_03 = demo_df[demo_df[\"poverty_1\"] < 0.3] \n",
    "whealth_05 = demo_df[demo_df[\"poverty_1\"] < 0.5]"
   ]
  },
  {
   "cell_type": "markdown",
   "metadata": {},
   "source": [
    "###################################################################################\n",
    "\n",
    "Let us analyze those having poverty indicator lesser than 0.3 immediatly below...\n",
    "###################################################################################"
   ]
  },
  {
   "cell_type": "code",
   "execution_count": 2,
   "metadata": {},
   "outputs": [
    {
     "ename": "NameError",
     "evalue": "name 'whealth_03' is not defined",
     "output_type": "error",
     "traceback": [
      "\u001b[0;31m---------------------------------------------------------------------------\u001b[0m",
      "\u001b[0;31mNameError\u001b[0m                                 Traceback (most recent call last)",
      "\u001b[0;32m<ipython-input-2-a8d096476f21>\u001b[0m in \u001b[0;36m<module>\u001b[0;34m\u001b[0m\n\u001b[0;32m----> 1\u001b[0;31m whealth_03_for_hist_race = whealth_03[[\"total_enrollment\",\"asian\",\"black\",\n\u001b[0m\u001b[1;32m      2\u001b[0m                                   \"hispanic\",\"multiple_race_categories\",\"white\"]]\n\u001b[1;32m      3\u001b[0m \u001b[0mwhealth_03_for_hist_other\u001b[0m \u001b[0;34m=\u001b[0m \u001b[0mwhealth_03\u001b[0m\u001b[0;34m[\u001b[0m\u001b[0;34m[\u001b[0m\u001b[0;34m\"students_with_disabilities\"\u001b[0m\u001b[0;34m,\u001b[0m\u001b[0;34m\"english_language_learners\"\u001b[0m\u001b[0;34m]\u001b[0m\u001b[0;34m]\u001b[0m\u001b[0;34m\u001b[0m\u001b[0;34m\u001b[0m\u001b[0m\n\u001b[1;32m      4\u001b[0m \u001b[0mwhealth_03_for_hist_demo\u001b[0m \u001b[0;34m=\u001b[0m \u001b[0mwhealth_03\u001b[0m\u001b[0;34m[\u001b[0m\u001b[0;34m[\u001b[0m\u001b[0;34m\"district\"\u001b[0m\u001b[0;34m,\u001b[0m\u001b[0;34m\"boro_name\"\u001b[0m\u001b[0;34m,\u001b[0m\u001b[0;34m\"school_type\"\u001b[0m\u001b[0;34m]\u001b[0m\u001b[0;34m]\u001b[0m\u001b[0;34m\u001b[0m\u001b[0;34m\u001b[0m\u001b[0m\n\u001b[1;32m      5\u001b[0m \u001b[0;34m\u001b[0m\u001b[0m\n",
      "\u001b[0;31mNameError\u001b[0m: name 'whealth_03' is not defined"
     ]
    }
   ],
   "source": [
    "whealth_03_for_hist_race = whealth_03[[\"total_enrollment\",\"asian\",\"black\",\n",
    "                                  \"hispanic\",\"multiple_race_categories\",\"white\"]]\n",
    "whealth_03_for_hist_other = whealth_03[[\"students_with_disabilities\",\"english_language_learners\"]]\n",
    "whealth_03_for_hist_demo = whealth_03[[\"district\",\"boro_name\",\"school_type\"]]\n",
    "\n",
    "whealth_03_for_hist_race.hist(stacked=True, figsize=(20,10))\n",
    "whealth_03_for_hist_other.hist(stacked=True, figsize=(20,5))\n",
    "#whealth_03_for_hist_demo.hist(stacked=True, figsize=(20,10))\n",
    "#whealth_03_for_hist"
   ]
  },
  {
   "cell_type": "code",
   "execution_count": 3,
   "metadata": {},
   "outputs": [
    {
     "ename": "NameError",
     "evalue": "name 'whealth_03_for_hist_demo' is not defined",
     "output_type": "error",
     "traceback": [
      "\u001b[0;31m---------------------------------------------------------------------------\u001b[0m",
      "\u001b[0;31mNameError\u001b[0m                                 Traceback (most recent call last)",
      "\u001b[0;32m<ipython-input-3-b502466a61c5>\u001b[0m in \u001b[0;36m<module>\u001b[0;34m\u001b[0m\n\u001b[1;32m      1\u001b[0m \u001b[0mplt\u001b[0m\u001b[0;34m.\u001b[0m\u001b[0mfigure\u001b[0m\u001b[0;34m(\u001b[0m\u001b[0;36m1\u001b[0m\u001b[0;34m)\u001b[0m\u001b[0;34m\u001b[0m\u001b[0;34m\u001b[0m\u001b[0m\n\u001b[0;32m----> 2\u001b[0;31m \u001b[0mplt\u001b[0m\u001b[0;34m.\u001b[0m\u001b[0mhist\u001b[0m\u001b[0;34m(\u001b[0m\u001b[0mwhealth_03_for_hist_demo\u001b[0m\u001b[0;34m[\u001b[0m\u001b[0;34m\"district\"\u001b[0m\u001b[0;34m]\u001b[0m\u001b[0;34m)\u001b[0m\u001b[0;34m\u001b[0m\u001b[0;34m\u001b[0m\u001b[0m\n\u001b[0m\u001b[1;32m      3\u001b[0m \u001b[0mplt\u001b[0m\u001b[0;34m.\u001b[0m\u001b[0mtitle\u001b[0m\u001b[0;34m(\u001b[0m\u001b[0;34m'District'\u001b[0m\u001b[0;34m)\u001b[0m\u001b[0;34m\u001b[0m\u001b[0;34m\u001b[0m\u001b[0m\n\u001b[1;32m      4\u001b[0m \u001b[0mplt\u001b[0m\u001b[0;34m.\u001b[0m\u001b[0mxlabel\u001b[0m\u001b[0;34m(\u001b[0m\u001b[0;34m'District'\u001b[0m\u001b[0;34m,\u001b[0m \u001b[0mfontsize\u001b[0m\u001b[0;34m=\u001b[0m\u001b[0;34m'x-large'\u001b[0m\u001b[0;34m)\u001b[0m\u001b[0;34m\u001b[0m\u001b[0;34m\u001b[0m\u001b[0m\n\u001b[1;32m      5\u001b[0m \u001b[0mplt\u001b[0m\u001b[0;34m.\u001b[0m\u001b[0mylabel\u001b[0m\u001b[0;34m(\u001b[0m\u001b[0;34m'Frequency'\u001b[0m\u001b[0;34m,\u001b[0m\u001b[0mfontsize\u001b[0m\u001b[0;34m=\u001b[0m\u001b[0;34m'x-large'\u001b[0m\u001b[0;34m)\u001b[0m\u001b[0;34m\u001b[0m\u001b[0;34m\u001b[0m\u001b[0m\n",
      "\u001b[0;31mNameError\u001b[0m: name 'whealth_03_for_hist_demo' is not defined"
     ]
    },
    {
     "data": {
      "text/plain": [
       "<Figure size 432x288 with 0 Axes>"
      ]
     },
     "metadata": {},
     "output_type": "display_data"
    }
   ],
   "source": [
    "plt.figure(1)\n",
    "plt.hist(whealth_03_for_hist_demo[\"district\"])\n",
    "plt.title('District')\n",
    "plt.xlabel('District', fontsize='x-large')\n",
    "plt.ylabel('Frequency',fontsize='x-large')\n",
    "plt.legend()\n",
    "\n",
    "plt.figure(2)\n",
    "plt.hist(whealth_03_for_hist_demo[\"boro_name\"])\n",
    "plt.title('Borough')\n",
    "plt.xlabel('Borough_name', fontsize='x-large')\n",
    "plt.ylabel('Frequency',fontsize='x-large')\n",
    "plt.legend()\n",
    "\n",
    "plt.figure(3)\n",
    "plt.hist(whealth_03_for_hist_demo[\"school_type\"])\n",
    "plt.title('School_type')\n",
    "plt.xlabel('School_type', fontsize='x-large')\n",
    "plt.ylabel('Frequency',fontsize='x-large')\n",
    "plt.legend()\n"
   ]
  },
  {
   "cell_type": "markdown",
   "metadata": {},
   "source": [
    "###################################################################################\n",
    "\n",
    "Let us analyze those having poverty indicator lesser than 0.5 immediatly below...\n",
    "###################################################################################"
   ]
  },
  {
   "cell_type": "code",
   "execution_count": null,
   "metadata": {},
   "outputs": [],
   "source": [
    "whealth_05_for_hist_race = whealth_05[[\"total_enrollment\",\"asian\",\"black\",\n",
    "                                  \"hispanic\",\"multiple_race_categories\",\"white\"]]\n",
    "whealth_05_for_hist_other = whealth_05[[\"students_with_disabilities\",\"english_language_learners\"]]\n",
    "whealth_05_for_hist_demo = whealth_05[[\"district\",\"boro_name\",\"school_type\"]]\n",
    "\n",
    "whealth_05_for_hist_race.hist(stacked=True, figsize=(20,10))\n",
    "whealth_05_for_hist_other.hist(stacked=True, figsize=(20,5))\n"
   ]
  },
  {
   "cell_type": "code",
   "execution_count": null,
   "metadata": {},
   "outputs": [],
   "source": [
    "plt.figure(1)\n",
    "plt.hist(whealth_05_for_hist_demo[\"district\"])\n",
    "plt.title('District')\n",
    "plt.xlabel('District', fontsize='x-large')\n",
    "plt.ylabel('Frequency',fontsize='x-large')\n",
    "plt.legend()\n",
    "\n",
    "plt.figure(2)\n",
    "plt.hist(whealth_05_for_hist_demo[\"boro_name\"])\n",
    "plt.title('Borough')\n",
    "plt.xlabel('Borough_name', fontsize='x-large')\n",
    "plt.ylabel('Frequency',fontsize='x-large')\n",
    "plt.legend()\n",
    "\n",
    "plt.figure(3)\n",
    "plt.hist(whealth_05_for_hist_demo[\"school_type\"])\n",
    "plt.title('School_type')\n",
    "plt.xlabel('School_type', fontsize='x-large')\n",
    "plt.ylabel('Frequency',fontsize='x-large')\n",
    "plt.legend()\n"
   ]
  },
  {
   "cell_type": "markdown",
   "metadata": {},
   "source": [
    "###################################################################################\n",
    "\n",
    "Let us analyze those having poverty indicator lesser than 0.5 by math_scores...\n",
    "\n",
    "###################################################################################"
   ]
  },
  {
   "cell_type": "code",
   "execution_count": null,
   "metadata": {
    "scrolled": true
   },
   "outputs": [],
   "source": [
    "math_demo_df.columns[0:100]"
   ]
  },
  {
   "cell_type": "code",
   "execution_count": null,
   "metadata": {},
   "outputs": [],
   "source": [
    "#\n",
    "math_whealth_05 = math_demo_df[math_demo_df[\"poverty_1\"] < 0.5]\n",
    "#\n",
    "math_whealth_05_for_hist_race = math_whealth_05[[\"math_all_grade_all_mean_scale_score\",\n",
    "                                                 \"math_asian_grade_all_mean_scale_score\",\n",
    "                                                 \"math_black_grade_all_mean_scale_score\",\n",
    "                                                 \"math_hispanic_grade_all_mean_scale_score\",\n",
    "                                                 \"math_white_grade_all_mean_scale_score\"]]\n",
    "\n",
    "math_whealth_05_for_hist_gend = math_whealth_05[[\"math_male_grade_all_mean_scale_score\",\n",
    "                                                  \"math_female_grade_all_mean_scale_score\"]]\n",
    "#math_whealth_05_for_hist_other = math_whealth_05[[\"students_with_disabilities\",\"english_language_learners\"]]\n",
    "#math_whealth_05_for_hist_demo = math_whealth_05[[\"district\",\"boro_name\",\"school_type\"]]"
   ]
  },
  {
   "cell_type": "code",
   "execution_count": null,
   "metadata": {},
   "outputs": [],
   "source": [
    "# We see that all the columns have missing values... \n",
    "#\n",
    "#math_whealth_05_for_hist_race.hist(stacked=True, figsize=(20,10))\n",
    "#math_whealth_05_for_hist_gend.hist(stacked=True, figsize=(20,5))\n",
    "math_whealth_05_for_hist_race"
   ]
  },
  {
   "cell_type": "code",
   "execution_count": null,
   "metadata": {},
   "outputs": [],
   "source": []
  }
 ],
 "metadata": {
  "kernelspec": {
   "display_name": "Python 3",
   "language": "python",
   "name": "python3"
  },
  "language_info": {
   "codemirror_mode": {
    "name": "ipython",
    "version": 3
   },
   "file_extension": ".py",
   "mimetype": "text/x-python",
   "name": "python",
   "nbconvert_exporter": "python",
   "pygments_lexer": "ipython3",
   "version": "3.8.7"
  }
 },
 "nbformat": 4,
 "nbformat_minor": 2
}
